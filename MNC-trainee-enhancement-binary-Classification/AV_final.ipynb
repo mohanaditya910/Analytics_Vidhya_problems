{
  "nbformat": 4,
  "nbformat_minor": 0,
  "metadata": {
    "colab": {
      "name": "AV-final.ipynb",
      "provenance": [],
      "authorship_tag": "ABX9TyNsoBg/Q4ABqdISQOyjHOdG",
      "include_colab_link": true
    },
    "kernelspec": {
      "name": "python3",
      "display_name": "Python 3"
    }
  },
  "cells": [
    {
      "cell_type": "markdown",
      "metadata": {
        "id": "view-in-github",
        "colab_type": "text"
      },
      "source": [
        "<a href=\"https://colab.research.google.com/github/mohanaditya910/Analytics_Vidhya_problems/blob/master/MNC-trainee-enhancement-binary-Classification/AV_final.ipynb\" target=\"_parent\"><img src=\"https://colab.research.google.com/assets/colab-badge.svg\" alt=\"Open In Colab\"/></a>"
      ]
    },
    {
      "cell_type": "markdown",
      "metadata": {
        "id": "JLNiVx3FffkS",
        "colab_type": "text"
      },
      "source": [
        "--> Data exploration and feature engineering..\n",
        "\n",
        "--> Model selection..\n",
        "\n",
        "--> Fine tuning.."
      ]
    },
    {
      "cell_type": "code",
      "metadata": {
        "id": "nlU-7tAnfWeh",
        "colab_type": "code",
        "colab": {
          "base_uri": "https://localhost:8080/",
          "height": 163
        },
        "outputId": "c2e65f5a-7868-4e11-fd84-9e624072792a"
      },
      "source": [
        "%matplotlib inline\n",
        "import matplotlib.pyplot as plt\n",
        "import pandas as pd\n",
        "import seaborn as sns\n",
        "import numpy as np\n",
        "from google.colab import drive\n",
        "drive.mount('/content/drive/')"
      ],
      "execution_count": 1,
      "outputs": [
        {
          "output_type": "stream",
          "text": [
            "/usr/local/lib/python3.6/dist-packages/statsmodels/tools/_testing.py:19: FutureWarning: pandas.util.testing is deprecated. Use the functions in the public API at pandas.testing instead.\n",
            "  import pandas.util.testing as tm\n"
          ],
          "name": "stderr"
        },
        {
          "output_type": "stream",
          "text": [
            "Go to this URL in a browser: https://accounts.google.com/o/oauth2/auth?client_id=947318989803-6bn6qk8qdgf4n4g3pfee6491hc0brc4i.apps.googleusercontent.com&redirect_uri=urn%3aietf%3awg%3aoauth%3a2.0%3aoob&response_type=code&scope=email%20https%3a%2f%2fwww.googleapis.com%2fauth%2fdocs.test%20https%3a%2f%2fwww.googleapis.com%2fauth%2fdrive%20https%3a%2f%2fwww.googleapis.com%2fauth%2fdrive.photos.readonly%20https%3a%2f%2fwww.googleapis.com%2fauth%2fpeopleapi.readonly\n",
            "\n",
            "Enter your authorization code:\n",
            "··········\n",
            "Mounted at /content/drive/\n"
          ],
          "name": "stdout"
        }
      ]
    },
    {
      "cell_type": "code",
      "metadata": {
        "id": "jm8p5-c5gzmf",
        "colab_type": "code",
        "colab": {}
      },
      "source": [
        "def preprocess_train_reg(df):\n",
        "\n",
        "  df.program_duration = ((df.program_duration - df.program_duration.mean()) / df.program_duration.std())\n",
        "  \n",
        "  df.trainee_engagement_rating = df.trainee_engagement_rating.fillna(1.0) \n",
        "\n",
        "  df.age = ((df.age - df.age.mean()) / df.age.std())\n",
        "\n",
        "  df.drop(['trainee_id'],axis=1,inplace=True)\n",
        "  \n",
        "  gender_mapping = {'M':1,'F':0}\n",
        "  test_type_mapping = {'offline':0,'online':1}\n",
        "  is_handicapped_mapping = {'N':1,'Y':0}\n",
        "  \n",
        "  df.is_handicapped = df.is_handicapped.map(is_handicapped_mapping)\n",
        "  df.test_type = df.test_type.map(test_type_mapping)\n",
        "  df.gender = df.gender.map(gender_mapping)\n",
        "  \n",
        "  education_mapping = {'No Qualification':0,'Matriculation':1,'High School Diploma':2,'Bachelors':3,'Masters':4}\n",
        "  df.education = df.education.map(education_mapping)\n",
        "  \n",
        "  difficulty_level_mapping = {'easy':0,'intermediate':1,'hard':2,'vary hard':3}\n",
        "  df.difficulty_level = df.difficulty_level.map(difficulty_level_mapping)\n",
        "  \n",
        "  df.drop(['program_id'],axis=1,inplace=True)\n",
        "  \n",
        "  program_type_mapping = {'S':0,'T':1,'U':2,'V':3,'X':4,'Y':5,'Z':6}\n",
        "  df.program_type = df.program_type.map(program_type_mapping)\n",
        "  \n",
        "  X = df.drop(['id','is_pass'],axis=1)\n",
        "  y = df.is_pass\n",
        "\n",
        "  return X,y"
      ],
      "execution_count": 0,
      "outputs": []
    },
    {
      "cell_type": "code",
      "metadata": {
        "id": "xE1Y8pFJg-ZP",
        "colab_type": "code",
        "colab": {}
      },
      "source": [
        "def preprocess_test_reg(df):\n",
        "\n",
        "  df.program_duration = ((df.program_duration - df.program_duration.mean()) / df.program_duration.std())\n",
        "  \n",
        "  df.trainee_engagement_rating = df.trainee_engagement_rating.fillna(1.0) \n",
        "\n",
        "  df.age = ((df.age - df.age.mean()) / df.age.std())\n",
        "\n",
        "  df.drop(['trainee_id'],axis=1,inplace=True)\n",
        "  \n",
        "  gender_mapping = {'M':1,'F':0}\n",
        "  test_type_mapping = {'offline':0,'online':1}\n",
        "  is_handicapped_mapping = {'N':1,'Y':0}\n",
        "  \n",
        "  df.is_handicapped = df.is_handicapped.map(is_handicapped_mapping)\n",
        "  df.test_type = df.test_type.map(test_type_mapping)\n",
        "  df.gender = df.gender.map(gender_mapping)\n",
        "  \n",
        "  education_mapping = {'No Qualification':0,'Matriculation':1,'High School Diploma':2,'Bachelors':3,'Masters':4}\n",
        "  df.education = df.education.map(education_mapping)\n",
        "  \n",
        "  difficulty_level_mapping = {'easy':0,'intermediate':1,'hard':2,'vary hard':3}\n",
        "  df.difficulty_level = df.difficulty_level.map(difficulty_level_mapping)\n",
        "  \n",
        "  df.drop(['program_id'],axis=1,inplace=True)\n",
        "  \n",
        "  program_type_mapping = {'S':0,'T':1,'U':2,'V':3,'X':4,'Y':5,'Z':6}\n",
        "  df.program_type = df.program_type.map(program_type_mapping)\n",
        "  \n",
        "  X = df.drop(['id'],axis=1)\n",
        "  \n",
        "\n",
        "  return X"
      ],
      "execution_count": 0,
      "outputs": []
    },
    {
      "cell_type": "code",
      "metadata": {
        "id": "zYCOtDgWiEtE",
        "colab_type": "code",
        "colab": {}
      },
      "source": [
        "def one_hot_encoder_reg(X):\n",
        "  from sklearn.preprocessing import OneHotEncoder\n",
        "\n",
        "  #program_type feature to one-hot-encoding\n",
        "  p_t_ohe = OneHotEncoder()\n",
        "  p_t_arr = p_t_ohe.fit_transform(X.program_type.to_numpy().reshape(len(X.index),1)).toarray()\n",
        "  p_t_lab = ['S','T','U','V','X','Y','Z']\n",
        "  program_type_features = pd.DataFrame(p_t_arr,columns=p_t_lab,index=X.index)\n",
        "  \n",
        "  #difficulty_level feature one-hor-encoding\n",
        "  d_l_ohe = OneHotEncoder()\n",
        "  d_l_arr = d_l_ohe.fit_transform(X.difficulty_level.to_numpy().reshape(len(X.index),1)).toarray()\n",
        "  d_l_lab =['easy','intermediate','hard','vary hard']\n",
        "  difficulty_level_features = pd.DataFrame(d_l_arr,columns=d_l_lab,index=X.index)\n",
        "  \n",
        "  #education feature one-hot-encoding\n",
        "  e_lab = ['No Qualification','Matriculation','High School Diploma','Bachelors','Masters']\n",
        "  e_ohe = OneHotEncoder()\n",
        "  e_arr = e_ohe.fit_transform(X.education.to_numpy().reshape(len(X.index),1)).toarray()\n",
        "  education_features = pd.DataFrame(e_arr,columns=e_lab,index=X.index)\n",
        "\n",
        "  ###########gender\n",
        "  gender_lab = ['Male','Female']\n",
        "  gender_ohe = OneHotEncoder()\n",
        "  gender_arr = gender_ohe.fit_transform(X.gender.to_numpy().reshape(len(X.index),1)).toarray()\n",
        "  gender_features = pd.DataFrame(gender_arr,columns=gender_lab,index=X.index)\n",
        "  ###########\n",
        "  is_handicapped_lab = ['handicapped','not_handicapped']\n",
        "  is_handicapped_ohe = OneHotEncoder()\n",
        "  is_handicapped_arr = gender_ohe.fit_transform(X.is_handicapped.to_numpy().reshape(len(X.index),1)).toarray()\n",
        "  is_handicapped_features = pd.DataFrame(is_handicapped_arr,columns=is_handicapped_lab,index=X.index)  \n",
        "\n",
        "\n",
        "  ###########\n",
        "  test_type_lab = ['offline','online']\n",
        "  test_type_ohe = OneHotEncoder()\n",
        "  test_type_arr = gender_ohe.fit_transform(X.test_type.to_numpy().reshape(len(X.index),1)).toarray()\n",
        "  test_type_features = pd.DataFrame(test_type_arr,columns=test_type_lab,index=X.index)\n",
        "\n",
        "\n",
        "  X_ohe = pd.concat([X,program_type_features,difficulty_level_features,education_features,test_type_features,is_handicapped_features,gender_features],axis=1)#,age_features\n",
        "  X_ohe = X_ohe.drop(labels= ['program_type','test_id','difficulty_level','education','test_type','gender','is_handicapped'],axis=1)#,'age','Age_Group'\n",
        "\n",
        "  return X_ohe"
      ],
      "execution_count": 0,
      "outputs": []
    },
    {
      "cell_type": "code",
      "metadata": {
        "id": "OmboV42lhgJ9",
        "colab_type": "code",
        "colab": {
          "base_uri": "https://localhost:8080/",
          "height": 272
        },
        "outputId": "4363acb7-4f5c-4f5e-f54a-efff314b1dcc"
      },
      "source": [
        "df = pd.read_csv(\"/content/drive/My Drive/AV1/train.csv\")\n",
        "df.set_index(keys='id',drop=False,inplace=True)\n",
        "df.head()"
      ],
      "execution_count": 32,
      "outputs": [
        {
          "output_type": "execute_result",
          "data": {
            "text/html": [
              "<div>\n",
              "<style scoped>\n",
              "    .dataframe tbody tr th:only-of-type {\n",
              "        vertical-align: middle;\n",
              "    }\n",
              "\n",
              "    .dataframe tbody tr th {\n",
              "        vertical-align: top;\n",
              "    }\n",
              "\n",
              "    .dataframe thead th {\n",
              "        text-align: right;\n",
              "    }\n",
              "</style>\n",
              "<table border=\"1\" class=\"dataframe\">\n",
              "  <thead>\n",
              "    <tr style=\"text-align: right;\">\n",
              "      <th></th>\n",
              "      <th>id</th>\n",
              "      <th>program_id</th>\n",
              "      <th>program_type</th>\n",
              "      <th>program_duration</th>\n",
              "      <th>test_id</th>\n",
              "      <th>test_type</th>\n",
              "      <th>difficulty_level</th>\n",
              "      <th>trainee_id</th>\n",
              "      <th>gender</th>\n",
              "      <th>education</th>\n",
              "      <th>city_tier</th>\n",
              "      <th>age</th>\n",
              "      <th>total_programs_enrolled</th>\n",
              "      <th>is_handicapped</th>\n",
              "      <th>trainee_engagement_rating</th>\n",
              "      <th>is_pass</th>\n",
              "    </tr>\n",
              "    <tr>\n",
              "      <th>id</th>\n",
              "      <th></th>\n",
              "      <th></th>\n",
              "      <th></th>\n",
              "      <th></th>\n",
              "      <th></th>\n",
              "      <th></th>\n",
              "      <th></th>\n",
              "      <th></th>\n",
              "      <th></th>\n",
              "      <th></th>\n",
              "      <th></th>\n",
              "      <th></th>\n",
              "      <th></th>\n",
              "      <th></th>\n",
              "      <th></th>\n",
              "      <th></th>\n",
              "    </tr>\n",
              "  </thead>\n",
              "  <tbody>\n",
              "    <tr>\n",
              "      <th>9389_150</th>\n",
              "      <td>9389_150</td>\n",
              "      <td>Y_1</td>\n",
              "      <td>Y</td>\n",
              "      <td>136</td>\n",
              "      <td>150</td>\n",
              "      <td>offline</td>\n",
              "      <td>intermediate</td>\n",
              "      <td>9389</td>\n",
              "      <td>M</td>\n",
              "      <td>Matriculation</td>\n",
              "      <td>3</td>\n",
              "      <td>24.0</td>\n",
              "      <td>5</td>\n",
              "      <td>N</td>\n",
              "      <td>1.0</td>\n",
              "      <td>0</td>\n",
              "    </tr>\n",
              "    <tr>\n",
              "      <th>16523_44</th>\n",
              "      <td>16523_44</td>\n",
              "      <td>T_1</td>\n",
              "      <td>T</td>\n",
              "      <td>131</td>\n",
              "      <td>44</td>\n",
              "      <td>offline</td>\n",
              "      <td>easy</td>\n",
              "      <td>16523</td>\n",
              "      <td>F</td>\n",
              "      <td>High School Diploma</td>\n",
              "      <td>4</td>\n",
              "      <td>26.0</td>\n",
              "      <td>2</td>\n",
              "      <td>N</td>\n",
              "      <td>3.0</td>\n",
              "      <td>1</td>\n",
              "    </tr>\n",
              "    <tr>\n",
              "      <th>13987_178</th>\n",
              "      <td>13987_178</td>\n",
              "      <td>Z_2</td>\n",
              "      <td>Z</td>\n",
              "      <td>120</td>\n",
              "      <td>178</td>\n",
              "      <td>online</td>\n",
              "      <td>easy</td>\n",
              "      <td>13987</td>\n",
              "      <td>M</td>\n",
              "      <td>Matriculation</td>\n",
              "      <td>1</td>\n",
              "      <td>40.0</td>\n",
              "      <td>1</td>\n",
              "      <td>N</td>\n",
              "      <td>2.0</td>\n",
              "      <td>1</td>\n",
              "    </tr>\n",
              "    <tr>\n",
              "      <th>13158_32</th>\n",
              "      <td>13158_32</td>\n",
              "      <td>T_2</td>\n",
              "      <td>T</td>\n",
              "      <td>117</td>\n",
              "      <td>32</td>\n",
              "      <td>offline</td>\n",
              "      <td>easy</td>\n",
              "      <td>13158</td>\n",
              "      <td>F</td>\n",
              "      <td>Matriculation</td>\n",
              "      <td>3</td>\n",
              "      <td>NaN</td>\n",
              "      <td>4</td>\n",
              "      <td>N</td>\n",
              "      <td>1.0</td>\n",
              "      <td>1</td>\n",
              "    </tr>\n",
              "    <tr>\n",
              "      <th>10591_84</th>\n",
              "      <td>10591_84</td>\n",
              "      <td>V_3</td>\n",
              "      <td>V</td>\n",
              "      <td>131</td>\n",
              "      <td>84</td>\n",
              "      <td>offline</td>\n",
              "      <td>intermediate</td>\n",
              "      <td>10591</td>\n",
              "      <td>F</td>\n",
              "      <td>High School Diploma</td>\n",
              "      <td>1</td>\n",
              "      <td>42.0</td>\n",
              "      <td>2</td>\n",
              "      <td>N</td>\n",
              "      <td>4.0</td>\n",
              "      <td>1</td>\n",
              "    </tr>\n",
              "  </tbody>\n",
              "</table>\n",
              "</div>"
            ],
            "text/plain": [
              "                  id program_id  ... trainee_engagement_rating  is_pass\n",
              "id                               ...                                   \n",
              "9389_150    9389_150        Y_1  ...                       1.0        0\n",
              "16523_44    16523_44        T_1  ...                       3.0        1\n",
              "13987_178  13987_178        Z_2  ...                       2.0        1\n",
              "13158_32    13158_32        T_2  ...                       1.0        1\n",
              "10591_84    10591_84        V_3  ...                       4.0        1\n",
              "\n",
              "[5 rows x 16 columns]"
            ]
          },
          "metadata": {
            "tags": []
          },
          "execution_count": 32
        }
      ]
    },
    {
      "cell_type": "code",
      "metadata": {
        "id": "N0CVTbmThjcc",
        "colab_type": "code",
        "colab": {}
      },
      "source": [
        "X_reg,y_reg = preprocess_train_reg(df)\n",
        "X_reg = one_hot_encoder_reg(X_reg)\n",
        "\n",
        "X_test = X_reg[X_reg.age.isna()]\n",
        "X_sumne = X_reg[X_reg.age.notna()]\n",
        "y_train = X_sumne.age\n",
        "X_train = X_sumne.drop(axis=1,labels=['age'])"
      ],
      "execution_count": 0,
      "outputs": []
    },
    {
      "cell_type": "code",
      "metadata": {
        "id": "acMvooV3ilok",
        "colab_type": "code",
        "colab": {
          "base_uri": "https://localhost:8080/",
          "height": 53
        },
        "outputId": "725dd5f0-e805-4ae2-e606-66d6ecbb0892"
      },
      "source": [
        "from xgboost import XGBRegressor\n",
        "\n",
        "xgb_r = XGBRegressor(max_depth=10)\n",
        "xgb_r.fit(X_train,y_train)\n",
        "\n",
        "y_pred = xgb_r.predict(X_train)\n",
        "from sklearn.metrics import mean_squared_error\n",
        "print('mean_square_error:{}'.format(mean_squared_error(y_train,y_pred)))"
      ],
      "execution_count": 34,
      "outputs": [
        {
          "output_type": "stream",
          "text": [
            "[14:11:11] WARNING: /workspace/src/objective/regression_obj.cu:152: reg:linear is now deprecated in favor of reg:squarederror.\n",
            "mean_square_error:0.5972807880220204\n"
          ],
          "name": "stdout"
        }
      ]
    },
    {
      "cell_type": "code",
      "metadata": {
        "id": "7pLTP42dituo",
        "colab_type": "code",
        "colab": {
          "base_uri": "https://localhost:8080/",
          "height": 35
        },
        "outputId": "0faa5f7b-3d46-426c-e0dc-80b7d58799af"
      },
      "source": [
        "from sklearn.neighbors import KNeighborsRegressor\n",
        "\n",
        "knn= KNeighborsRegressor(n_neighbors=15,weights='distance')\n",
        "\n",
        "knn.fit(X_train,y_train)\n",
        "\n",
        "y_knn = knn.predict(X_train)\n",
        "\n",
        "from sklearn.metrics import mean_squared_error\n",
        "\n",
        "mse = mean_squared_error(y_train,y_knn)\n",
        "\n",
        "print('mean square error: %.2f' % (mse*100))"
      ],
      "execution_count": 35,
      "outputs": [
        {
          "output_type": "stream",
          "text": [
            "mean square error: 50.96\n"
          ],
          "name": "stdout"
        }
      ]
    },
    {
      "cell_type": "code",
      "metadata": {
        "id": "rm3wRnItihYm",
        "colab_type": "code",
        "colab": {}
      },
      "source": [
        "keys = X_reg.loc[X_reg['age'].isna()].index \n",
        "#values = knn.predict(X_reg[X_reg['age'].isna()].drop(axis=1,labels=['age']))\n",
        "values = xgb_r.predict(X_reg[X_reg['age'].isna()].drop(axis=1,labels=['age']))\n",
        "dict_ = dict(zip(keys, values))\n",
        "X_reg.loc[X_reg['age'].isna(),'age'] = X_reg[X_reg['age'].isna()].index.map(dict_)"
      ],
      "execution_count": 0,
      "outputs": []
    },
    {
      "cell_type": "code",
      "metadata": {
        "id": "blySeWFrhrZs",
        "colab_type": "code",
        "colab": {}
      },
      "source": [
        "from sklearn.preprocessing import PolynomialFeatures\n",
        "\n",
        "poly_feat = PolynomialFeatures()\n",
        "\n",
        "X_poly = poly_feat.fit_transform(X_reg)"
      ],
      "execution_count": 0,
      "outputs": []
    },
    {
      "cell_type": "code",
      "metadata": {
        "id": "O2af2iXxWL_a",
        "colab_type": "code",
        "colab": {}
      },
      "source": [
        "from sklearn.decomposition import PCA\n",
        "\n",
        "pca = PCA(n_components=70)\n",
        "X_pca = pca.fit_transform(X_poly)"
      ],
      "execution_count": 0,
      "outputs": []
    },
    {
      "cell_type": "code",
      "metadata": {
        "id": "1OJWZ8omeLrB",
        "colab_type": "code",
        "colab": {}
      },
      "source": [
        "(pca.explained_variance_ratio_)*100\n",
        "\n",
        "count = 0\n",
        "for i,value in enumerate(pca.explained_variance_ratio_):\n",
        "\n",
        "  count = count+value\n",
        "  if count>0.99:\n",
        "    print (i)\n",
        "    break"
      ],
      "execution_count": 0,
      "outputs": []
    },
    {
      "cell_type": "code",
      "metadata": {
        "id": "pGnUY8Fwhuqk",
        "colab_type": "code",
        "colab": {
          "base_uri": "https://localhost:8080/",
          "height": 35
        },
        "outputId": "db0bb0fe-cf63-472a-c64c-460b21e51869"
      },
      "source": [
        "from xgboost import XGBClassifier\n",
        "\n",
        "xgb = XGBClassifier(eval_metric='auc',objective='rank:pairwise', max_depth=10)\n",
        "xgb.fit(X_pca,y_reg)\n",
        "\n",
        "y_predXGB = xgb.predict(X_pca)\n",
        "\n",
        "from sklearn.metrics import roc_auc_score\n",
        "roc_score = roc_auc_score(y_reg,y_predXGB)\n",
        "\n",
        "roc_score"
      ],
      "execution_count": 61,
      "outputs": [
        {
          "output_type": "execute_result",
          "data": {
            "text/plain": [
              "0.7990061322308514"
            ]
          },
          "metadata": {
            "tags": []
          },
          "execution_count": 61
        }
      ]
    },
    {
      "cell_type": "code",
      "metadata": {
        "id": "zYue9KDZhy9r",
        "colab_type": "code",
        "colab": {}
      },
      "source": [
        "sub_df = pd.read_csv(\"/content/drive/My Drive/AV1/test.csv\")\n",
        "\n",
        "sub_pre = preprocess_test_reg(sub_df)\n",
        "sub_ohe = one_hot_encoder_reg(sub_pre)\n",
        "\n",
        "keys = sub_ohe.loc[sub_ohe['age'].isna()].index \n",
        "values = xgb_r.predict(sub_ohe[sub_ohe['age'].isna()].drop(axis=1,labels=['age']))\n",
        "dict_ = dict(zip(keys, values))\n",
        "sub_ohe.loc[sub_ohe['age'].isna(),'age'] = sub_ohe[sub_ohe['age'].isna()].index.map(dict_)\n",
        "\n",
        "sub_poly = poly_feat.transform(sub_ohe)\n",
        "sub_poly = pca.transform(sub_poly)\n",
        "\n",
        "predictions = xgb.predict(sub_poly)\n",
        "sub_dict = {'id':sub_df.id,'is_pass':predictions}\n",
        "\n",
        "submission = pd.DataFrame(sub_dict)\n",
        "\n",
        "submission.to_csv('/content/drive/My Drive/AV1/sub-1.csv',index = False)"
      ],
      "execution_count": 0,
      "outputs": []
    },
    {
      "cell_type": "code",
      "metadata": {
        "id": "GtbVzg5rajQo",
        "colab_type": "code",
        "colab": {}
      },
      "source": [
        ""
      ],
      "execution_count": 0,
      "outputs": []
    },
    {
      "cell_type": "code",
      "metadata": {
        "id": "Mt6PtUnGbG34",
        "colab_type": "code",
        "colab": {}
      },
      "source": [
        "import seaborn as sns\n",
        "from sklearn import metrics\n",
        "def plot_confusion_matrix(score, true_labels, predicted_labels, n_labels):\n",
        "    confusion_matrix = metrics.confusion_matrix(true_labels,predicted_labels)\n",
        "    plt.figure(figsize=(n_labels-1,n_labels-1))\n",
        "    sns.heatmap(confusion_matrix, annot=True, fmt=\".1f\", linewidths=.5, square = True, cmap = 'Blues_r');\n",
        "    plt.ylabel('Actual label');\n",
        "    plt.xlabel('Predicted label');\n",
        "    all_sample_title = 'Accuracy Score: {0}'.format(score)\n",
        "    plt.title(all_sample_title, size = 15);\n",
        "\n"
      ],
      "execution_count": 0,
      "outputs": []
    },
    {
      "cell_type": "code",
      "metadata": {
        "id": "_5D3_n9svttK",
        "colab_type": "code",
        "colab": {
          "base_uri": "https://localhost:8080/",
          "height": 520
        },
        "outputId": "100e54f2-40bb-4c30-e130-f3c4cdfbf7ec"
      },
      "source": [
        "plot_confusion_matrix(roc_score,y_reg,y_predXGB,10)"
      ],
      "execution_count": 68,
      "outputs": [
        {
          "output_type": "display_data",
          "data": {
            "image/png": "[encoded data removed]",
            "text/plain": [
              "<Figure size 648x648 with 2 Axes>"
            ]
          },
          "metadata": {
            "tags": [],
            "needs_background": "light"
          }
        }
      ]
    },
    {
      "cell_type": "code",
      "metadata": {
        "id": "SkjvHVOqwBzD",
        "colab_type": "code",
        "colab": {}
      },
      "source": [
        ""
      ],
      "execution_count": 0,
      "outputs": []
    }
  ]
}